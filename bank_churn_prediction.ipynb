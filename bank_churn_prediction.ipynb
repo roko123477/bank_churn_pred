{
 "cells": [
  {
   "cell_type": "code",
   "execution_count": 1,
   "id": "db258b02",
   "metadata": {},
   "outputs": [],
   "source": [
    "import numpy as np\n",
    "import pandas as pd\n",
    "import matplotlib.pyplot as plt\n",
    "%matplotlib inline"
   ]
  },
  {
   "cell_type": "code",
   "execution_count": 2,
   "id": "451d3bbc",
   "metadata": {},
   "outputs": [
    {
     "data": {
      "text/html": [
       "<div>\n",
       "<style scoped>\n",
       "    .dataframe tbody tr th:only-of-type {\n",
       "        vertical-align: middle;\n",
       "    }\n",
       "\n",
       "    .dataframe tbody tr th {\n",
       "        vertical-align: top;\n",
       "    }\n",
       "\n",
       "    .dataframe thead th {\n",
       "        text-align: right;\n",
       "    }\n",
       "</style>\n",
       "<table border=\"1\" class=\"dataframe\">\n",
       "  <thead>\n",
       "    <tr style=\"text-align: right;\">\n",
       "      <th></th>\n",
       "      <th>RowNumber</th>\n",
       "      <th>CustomerId</th>\n",
       "      <th>Surname</th>\n",
       "      <th>CreditScore</th>\n",
       "      <th>Geography</th>\n",
       "      <th>Gender</th>\n",
       "      <th>Age</th>\n",
       "      <th>Tenure</th>\n",
       "      <th>Balance</th>\n",
       "      <th>NumOfProducts</th>\n",
       "      <th>HasCrCard</th>\n",
       "      <th>IsActiveMember</th>\n",
       "      <th>EstimatedSalary</th>\n",
       "      <th>Exited</th>\n",
       "    </tr>\n",
       "  </thead>\n",
       "  <tbody>\n",
       "    <tr>\n",
       "      <th>0</th>\n",
       "      <td>1</td>\n",
       "      <td>15634602</td>\n",
       "      <td>Hargrave</td>\n",
       "      <td>619</td>\n",
       "      <td>France</td>\n",
       "      <td>Female</td>\n",
       "      <td>42</td>\n",
       "      <td>2</td>\n",
       "      <td>0.00</td>\n",
       "      <td>1</td>\n",
       "      <td>1</td>\n",
       "      <td>1</td>\n",
       "      <td>101348.88</td>\n",
       "      <td>1</td>\n",
       "    </tr>\n",
       "    <tr>\n",
       "      <th>1</th>\n",
       "      <td>2</td>\n",
       "      <td>15647311</td>\n",
       "      <td>Hill</td>\n",
       "      <td>608</td>\n",
       "      <td>Spain</td>\n",
       "      <td>Female</td>\n",
       "      <td>41</td>\n",
       "      <td>1</td>\n",
       "      <td>83807.86</td>\n",
       "      <td>1</td>\n",
       "      <td>0</td>\n",
       "      <td>1</td>\n",
       "      <td>112542.58</td>\n",
       "      <td>0</td>\n",
       "    </tr>\n",
       "    <tr>\n",
       "      <th>2</th>\n",
       "      <td>3</td>\n",
       "      <td>15619304</td>\n",
       "      <td>Onio</td>\n",
       "      <td>502</td>\n",
       "      <td>France</td>\n",
       "      <td>Female</td>\n",
       "      <td>42</td>\n",
       "      <td>8</td>\n",
       "      <td>159660.80</td>\n",
       "      <td>3</td>\n",
       "      <td>1</td>\n",
       "      <td>0</td>\n",
       "      <td>113931.57</td>\n",
       "      <td>1</td>\n",
       "    </tr>\n",
       "    <tr>\n",
       "      <th>3</th>\n",
       "      <td>4</td>\n",
       "      <td>15701354</td>\n",
       "      <td>Boni</td>\n",
       "      <td>699</td>\n",
       "      <td>France</td>\n",
       "      <td>Female</td>\n",
       "      <td>39</td>\n",
       "      <td>1</td>\n",
       "      <td>0.00</td>\n",
       "      <td>2</td>\n",
       "      <td>0</td>\n",
       "      <td>0</td>\n",
       "      <td>93826.63</td>\n",
       "      <td>0</td>\n",
       "    </tr>\n",
       "    <tr>\n",
       "      <th>4</th>\n",
       "      <td>5</td>\n",
       "      <td>15737888</td>\n",
       "      <td>Mitchell</td>\n",
       "      <td>850</td>\n",
       "      <td>Spain</td>\n",
       "      <td>Female</td>\n",
       "      <td>43</td>\n",
       "      <td>2</td>\n",
       "      <td>125510.82</td>\n",
       "      <td>1</td>\n",
       "      <td>1</td>\n",
       "      <td>1</td>\n",
       "      <td>79084.10</td>\n",
       "      <td>0</td>\n",
       "    </tr>\n",
       "  </tbody>\n",
       "</table>\n",
       "</div>"
      ],
      "text/plain": [
       "   RowNumber  CustomerId   Surname  CreditScore Geography  Gender  Age  \\\n",
       "0          1    15634602  Hargrave          619    France  Female   42   \n",
       "1          2    15647311      Hill          608     Spain  Female   41   \n",
       "2          3    15619304      Onio          502    France  Female   42   \n",
       "3          4    15701354      Boni          699    France  Female   39   \n",
       "4          5    15737888  Mitchell          850     Spain  Female   43   \n",
       "\n",
       "   Tenure    Balance  NumOfProducts  HasCrCard  IsActiveMember  \\\n",
       "0       2       0.00              1          1               1   \n",
       "1       1   83807.86              1          0               1   \n",
       "2       8  159660.80              3          1               0   \n",
       "3       1       0.00              2          0               0   \n",
       "4       2  125510.82              1          1               1   \n",
       "\n",
       "   EstimatedSalary  Exited  \n",
       "0        101348.88       1  \n",
       "1        112542.58       0  \n",
       "2        113931.57       1  \n",
       "3         93826.63       0  \n",
       "4         79084.10       0  "
      ]
     },
     "execution_count": 2,
     "metadata": {},
     "output_type": "execute_result"
    }
   ],
   "source": [
    "df=pd.read_csv(\"Churn_Modelling.csv\")\n",
    "df.head()"
   ]
  },
  {
   "cell_type": "code",
   "execution_count": 3,
   "id": "a93dc01e",
   "metadata": {},
   "outputs": [
    {
     "data": {
      "text/html": [
       "<div>\n",
       "<style scoped>\n",
       "    .dataframe tbody tr th:only-of-type {\n",
       "        vertical-align: middle;\n",
       "    }\n",
       "\n",
       "    .dataframe tbody tr th {\n",
       "        vertical-align: top;\n",
       "    }\n",
       "\n",
       "    .dataframe thead th {\n",
       "        text-align: right;\n",
       "    }\n",
       "</style>\n",
       "<table border=\"1\" class=\"dataframe\">\n",
       "  <thead>\n",
       "    <tr style=\"text-align: right;\">\n",
       "      <th></th>\n",
       "      <th>CreditScore</th>\n",
       "      <th>Geography</th>\n",
       "      <th>Gender</th>\n",
       "      <th>Age</th>\n",
       "      <th>Tenure</th>\n",
       "      <th>Balance</th>\n",
       "      <th>NumOfProducts</th>\n",
       "      <th>HasCrCard</th>\n",
       "      <th>IsActiveMember</th>\n",
       "      <th>EstimatedSalary</th>\n",
       "      <th>Exited</th>\n",
       "    </tr>\n",
       "  </thead>\n",
       "  <tbody>\n",
       "    <tr>\n",
       "      <th>0</th>\n",
       "      <td>619</td>\n",
       "      <td>France</td>\n",
       "      <td>Female</td>\n",
       "      <td>42</td>\n",
       "      <td>2</td>\n",
       "      <td>0.00</td>\n",
       "      <td>1</td>\n",
       "      <td>1</td>\n",
       "      <td>1</td>\n",
       "      <td>101348.88</td>\n",
       "      <td>1</td>\n",
       "    </tr>\n",
       "    <tr>\n",
       "      <th>1</th>\n",
       "      <td>608</td>\n",
       "      <td>Spain</td>\n",
       "      <td>Female</td>\n",
       "      <td>41</td>\n",
       "      <td>1</td>\n",
       "      <td>83807.86</td>\n",
       "      <td>1</td>\n",
       "      <td>0</td>\n",
       "      <td>1</td>\n",
       "      <td>112542.58</td>\n",
       "      <td>0</td>\n",
       "    </tr>\n",
       "    <tr>\n",
       "      <th>2</th>\n",
       "      <td>502</td>\n",
       "      <td>France</td>\n",
       "      <td>Female</td>\n",
       "      <td>42</td>\n",
       "      <td>8</td>\n",
       "      <td>159660.80</td>\n",
       "      <td>3</td>\n",
       "      <td>1</td>\n",
       "      <td>0</td>\n",
       "      <td>113931.57</td>\n",
       "      <td>1</td>\n",
       "    </tr>\n",
       "    <tr>\n",
       "      <th>3</th>\n",
       "      <td>699</td>\n",
       "      <td>France</td>\n",
       "      <td>Female</td>\n",
       "      <td>39</td>\n",
       "      <td>1</td>\n",
       "      <td>0.00</td>\n",
       "      <td>2</td>\n",
       "      <td>0</td>\n",
       "      <td>0</td>\n",
       "      <td>93826.63</td>\n",
       "      <td>0</td>\n",
       "    </tr>\n",
       "    <tr>\n",
       "      <th>4</th>\n",
       "      <td>850</td>\n",
       "      <td>Spain</td>\n",
       "      <td>Female</td>\n",
       "      <td>43</td>\n",
       "      <td>2</td>\n",
       "      <td>125510.82</td>\n",
       "      <td>1</td>\n",
       "      <td>1</td>\n",
       "      <td>1</td>\n",
       "      <td>79084.10</td>\n",
       "      <td>0</td>\n",
       "    </tr>\n",
       "  </tbody>\n",
       "</table>\n",
       "</div>"
      ],
      "text/plain": [
       "   CreditScore Geography  Gender  Age  Tenure    Balance  NumOfProducts  \\\n",
       "0          619    France  Female   42       2       0.00              1   \n",
       "1          608     Spain  Female   41       1   83807.86              1   \n",
       "2          502    France  Female   42       8  159660.80              3   \n",
       "3          699    France  Female   39       1       0.00              2   \n",
       "4          850     Spain  Female   43       2  125510.82              1   \n",
       "\n",
       "   HasCrCard  IsActiveMember  EstimatedSalary  Exited  \n",
       "0          1               1        101348.88       1  \n",
       "1          0               1        112542.58       0  \n",
       "2          1               0        113931.57       1  \n",
       "3          0               0         93826.63       0  \n",
       "4          1               1         79084.10       0  "
      ]
     },
     "execution_count": 3,
     "metadata": {},
     "output_type": "execute_result"
    }
   ],
   "source": [
    "df.drop(columns=['RowNumber','CustomerId','Surname'],axis=1,inplace=True)\n",
    "df.head()"
   ]
  },
  {
   "cell_type": "code",
   "execution_count": 4,
   "id": "63841805",
   "metadata": {},
   "outputs": [
    {
     "data": {
      "text/plain": [
       "CreditScore          int64\n",
       "Geography           object\n",
       "Gender              object\n",
       "Age                  int64\n",
       "Tenure               int64\n",
       "Balance            float64\n",
       "NumOfProducts        int64\n",
       "HasCrCard            int64\n",
       "IsActiveMember       int64\n",
       "EstimatedSalary    float64\n",
       "Exited               int64\n",
       "dtype: object"
      ]
     },
     "execution_count": 4,
     "metadata": {},
     "output_type": "execute_result"
    }
   ],
   "source": [
    "df.dtypes"
   ]
  },
  {
   "cell_type": "code",
   "execution_count": 5,
   "id": "41c83512",
   "metadata": {},
   "outputs": [
    {
     "data": {
      "text/plain": [
       "(10000, 11)"
      ]
     },
     "execution_count": 5,
     "metadata": {},
     "output_type": "execute_result"
    }
   ],
   "source": [
    "df.shape"
   ]
  },
  {
   "cell_type": "code",
   "execution_count": 6,
   "id": "38930d32",
   "metadata": {},
   "outputs": [
    {
     "data": {
      "text/plain": [
       "(10000, 11)"
      ]
     },
     "execution_count": 6,
     "metadata": {},
     "output_type": "execute_result"
    }
   ],
   "source": [
    "df.isnull().shape"
   ]
  },
  {
   "cell_type": "code",
   "execution_count": 7,
   "id": "8da990d4",
   "metadata": {},
   "outputs": [
    {
     "data": {
      "text/plain": [
       "array([     0.  ,  83807.86, 159660.8 , ...,  57369.61,  75075.31,\n",
       "       130142.79])"
      ]
     },
     "execution_count": 7,
     "metadata": {},
     "output_type": "execute_result"
    }
   ],
   "source": [
    "df['Balance'].unique()"
   ]
  },
  {
   "cell_type": "code",
   "execution_count": 8,
   "id": "5af7500f",
   "metadata": {},
   "outputs": [],
   "source": [
    "tenure_churn_no=df[df.Exited==0].Tenure\n",
    "tenure_churn_yes=df[df.Exited==1].Tenure"
   ]
  },
  {
   "cell_type": "code",
   "execution_count": 9,
   "id": "fc135d1e",
   "metadata": {},
   "outputs": [
    {
     "data": {
      "text/plain": [
       "<matplotlib.legend.Legend at 0x1a5cb3c3f70>"
      ]
     },
     "execution_count": 9,
     "metadata": {},
     "output_type": "execute_result"
    },
    {
     "data": {
      "image/png": "[encoded data removed]",
      "text/plain": [
       "<Figure size 432x288 with 1 Axes>"
      ]
     },
     "metadata": {
      "needs_background": "light"
     },
     "output_type": "display_data"
    }
   ],
   "source": [
    "#we will draw a histogram of tenure of customer leaving or not\n",
    "plt.hist([tenure_churn_yes,tenure_churn_no],color=['green','red'],label=['churn=Yes','churn=No'])\n",
    "plt.xlabel('Tenure')\n",
    "plt.ylabel('No of Customers')\n",
    "plt.title(\"Customer Churn Prediction Visualization\")\n",
    "plt.legend()"
   ]
  },
  {
   "cell_type": "code",
   "execution_count": 10,
   "id": "781fdf02",
   "metadata": {},
   "outputs": [
    {
     "name": "stdout",
     "output_type": "stream",
     "text": [
      "CreditScore:[619 608 502 699 850 645 822 376 501 684 528 497 476 549 635 616 653 587\n",
      " 726 732 636 510 669 846 577 756 571 574 411 591 533 553 520 722 475 490\n",
      " 804 582 472 465 556 834 660 776 829 637 550 698 585 788 655 601 656 725\n",
      " 511 614 742 687 555 603 751 581 735 661 675 738 813 657 604 519 664 678\n",
      " 757 416 665 777 543 506 493 652 750 729 646 647 808 524 769 730 515 773\n",
      " 814 710 413 623 670 622 785 605 479 685 538 562 721 628 668 828 674 625\n",
      " 432 770 758 795 686 789 589 461 584 579 663 682 793 691 485 650 754 535\n",
      " 716 539 706 586 631 717 800 683 704 615 667 484 480 578 512 606 597 778\n",
      " 514 525 715 580 807 521 759 516 711 618 643 671 689 620 676 572 695 592\n",
      " 567 694 547 594 673 610 767 763 712 703 662 659 523 772 545 634 739 771\n",
      " 681 544 696 766 727 693 557 531 498 651 791 733 811 707 714 782 775 799\n",
      " 602 744 588 747 583 627 731 629 438 642 806 474 559 429 680 749 734 644\n",
      " 626 649 805 718 840 630 654 762 568 613 522 737 648 443 640 540 460 593\n",
      " 801 611 802 745 483 690 492 709 705 560 752 701 537 487 596 702 486 724\n",
      " 548 464 790 534 748 494 590 468 509 818 816 536 753 774 621 569 658 798\n",
      " 641 542 692 639 765 570 638 599 632 779 527 564 833 504 842 508 417 598\n",
      " 741 607 761 848 546 439 755 760 526 713 700 666 566 495 688 612 477 427\n",
      " 839 819 720 459 503 624 529 563 482 796 445 746 786 554 672 787 499 844\n",
      " 450 815 838 803 736 633 600 679 517 792 743 488 421 841 708 507 505 456\n",
      " 435 561 518 565 728 784 552 609 764 697 723 551 444 719 496 541 830 812\n",
      " 677 420 595 617 809 500 826 434 513 478 797 363 399 463 780 452 575 837\n",
      " 794 824 428 823 781 849 489 431 457 768 831 359 820 573 576 558 817 449\n",
      " 440 415 821 530 350 446 425 740 481 783 358 845 451 458 469 423 404 836\n",
      " 473 835 466 491 351 827 843 365 532 414 453 471 401 810 832 470 447 422\n",
      " 825 430 436 426 408 847 418 437 410 454 407 455 462 386 405 383 395 467\n",
      " 433 442 424 448 441 367 412 382 373 419]\n",
      "Geography:['France' 'Spain' 'Germany']\n",
      "Gender:['Female' 'Male']\n",
      "Age:[42 41 39 43 44 50 29 27 31 24 34 25 35 45 58 32 38 46 36 33 40 51 61 49\n",
      " 37 19 66 56 26 21 55 75 22 30 28 65 48 52 57 73 47 54 72 20 67 79 62 53\n",
      " 80 59 68 23 60 70 63 64 18 82 69 74 71 76 77 88 85 84 78 81 92 83]\n",
      "Tenure:[ 2  1  8  7  4  6  3 10  5  9  0]\n",
      "Balance:[     0.    83807.86 159660.8  ...  57369.61  75075.31 130142.79]\n",
      "NumOfProducts:[1 3 2 4]\n",
      "HasCrCard:[1 0]\n",
      "IsActiveMember:[1 0]\n",
      "EstimatedSalary:[101348.88 112542.58 113931.57 ...  42085.58  92888.52  38190.78]\n",
      "Exited:[1 0]\n"
     ]
    }
   ],
   "source": [
    "for column in df:\n",
    "    print(f'{column}:{df[column].unique()}')"
   ]
  },
  {
   "cell_type": "code",
   "execution_count": 11,
   "id": "1a25a812",
   "metadata": {},
   "outputs": [
    {
     "data": {
      "text/html": [
       "<div>\n",
       "<style scoped>\n",
       "    .dataframe tbody tr th:only-of-type {\n",
       "        vertical-align: middle;\n",
       "    }\n",
       "\n",
       "    .dataframe tbody tr th {\n",
       "        vertical-align: top;\n",
       "    }\n",
       "\n",
       "    .dataframe thead th {\n",
       "        text-align: right;\n",
       "    }\n",
       "</style>\n",
       "<table border=\"1\" class=\"dataframe\">\n",
       "  <thead>\n",
       "    <tr style=\"text-align: right;\">\n",
       "      <th></th>\n",
       "      <th>CreditScore</th>\n",
       "      <th>Geography</th>\n",
       "      <th>Gender</th>\n",
       "      <th>Age</th>\n",
       "      <th>Tenure</th>\n",
       "      <th>Balance</th>\n",
       "      <th>NumOfProducts</th>\n",
       "      <th>HasCrCard</th>\n",
       "      <th>IsActiveMember</th>\n",
       "      <th>EstimatedSalary</th>\n",
       "      <th>Exited</th>\n",
       "    </tr>\n",
       "  </thead>\n",
       "  <tbody>\n",
       "    <tr>\n",
       "      <th>0</th>\n",
       "      <td>619</td>\n",
       "      <td>France</td>\n",
       "      <td>0</td>\n",
       "      <td>42</td>\n",
       "      <td>2</td>\n",
       "      <td>0.00</td>\n",
       "      <td>1</td>\n",
       "      <td>1</td>\n",
       "      <td>1</td>\n",
       "      <td>101348.88</td>\n",
       "      <td>1</td>\n",
       "    </tr>\n",
       "    <tr>\n",
       "      <th>1</th>\n",
       "      <td>608</td>\n",
       "      <td>Spain</td>\n",
       "      <td>0</td>\n",
       "      <td>41</td>\n",
       "      <td>1</td>\n",
       "      <td>83807.86</td>\n",
       "      <td>1</td>\n",
       "      <td>0</td>\n",
       "      <td>1</td>\n",
       "      <td>112542.58</td>\n",
       "      <td>0</td>\n",
       "    </tr>\n",
       "    <tr>\n",
       "      <th>2</th>\n",
       "      <td>502</td>\n",
       "      <td>France</td>\n",
       "      <td>0</td>\n",
       "      <td>42</td>\n",
       "      <td>8</td>\n",
       "      <td>159660.80</td>\n",
       "      <td>3</td>\n",
       "      <td>1</td>\n",
       "      <td>0</td>\n",
       "      <td>113931.57</td>\n",
       "      <td>1</td>\n",
       "    </tr>\n",
       "    <tr>\n",
       "      <th>3</th>\n",
       "      <td>699</td>\n",
       "      <td>France</td>\n",
       "      <td>0</td>\n",
       "      <td>39</td>\n",
       "      <td>1</td>\n",
       "      <td>0.00</td>\n",
       "      <td>2</td>\n",
       "      <td>0</td>\n",
       "      <td>0</td>\n",
       "      <td>93826.63</td>\n",
       "      <td>0</td>\n",
       "    </tr>\n",
       "    <tr>\n",
       "      <th>4</th>\n",
       "      <td>850</td>\n",
       "      <td>Spain</td>\n",
       "      <td>0</td>\n",
       "      <td>43</td>\n",
       "      <td>2</td>\n",
       "      <td>125510.82</td>\n",
       "      <td>1</td>\n",
       "      <td>1</td>\n",
       "      <td>1</td>\n",
       "      <td>79084.10</td>\n",
       "      <td>0</td>\n",
       "    </tr>\n",
       "    <tr>\n",
       "      <th>5</th>\n",
       "      <td>645</td>\n",
       "      <td>Spain</td>\n",
       "      <td>1</td>\n",
       "      <td>44</td>\n",
       "      <td>8</td>\n",
       "      <td>113755.78</td>\n",
       "      <td>2</td>\n",
       "      <td>1</td>\n",
       "      <td>0</td>\n",
       "      <td>149756.71</td>\n",
       "      <td>1</td>\n",
       "    </tr>\n",
       "    <tr>\n",
       "      <th>6</th>\n",
       "      <td>822</td>\n",
       "      <td>France</td>\n",
       "      <td>1</td>\n",
       "      <td>50</td>\n",
       "      <td>7</td>\n",
       "      <td>0.00</td>\n",
       "      <td>2</td>\n",
       "      <td>1</td>\n",
       "      <td>1</td>\n",
       "      <td>10062.80</td>\n",
       "      <td>0</td>\n",
       "    </tr>\n",
       "    <tr>\n",
       "      <th>7</th>\n",
       "      <td>376</td>\n",
       "      <td>Germany</td>\n",
       "      <td>0</td>\n",
       "      <td>29</td>\n",
       "      <td>4</td>\n",
       "      <td>115046.74</td>\n",
       "      <td>4</td>\n",
       "      <td>1</td>\n",
       "      <td>0</td>\n",
       "      <td>119346.88</td>\n",
       "      <td>1</td>\n",
       "    </tr>\n",
       "    <tr>\n",
       "      <th>8</th>\n",
       "      <td>501</td>\n",
       "      <td>France</td>\n",
       "      <td>1</td>\n",
       "      <td>44</td>\n",
       "      <td>4</td>\n",
       "      <td>142051.07</td>\n",
       "      <td>2</td>\n",
       "      <td>0</td>\n",
       "      <td>1</td>\n",
       "      <td>74940.50</td>\n",
       "      <td>0</td>\n",
       "    </tr>\n",
       "    <tr>\n",
       "      <th>9</th>\n",
       "      <td>684</td>\n",
       "      <td>France</td>\n",
       "      <td>1</td>\n",
       "      <td>27</td>\n",
       "      <td>2</td>\n",
       "      <td>134603.88</td>\n",
       "      <td>1</td>\n",
       "      <td>1</td>\n",
       "      <td>1</td>\n",
       "      <td>71725.73</td>\n",
       "      <td>0</td>\n",
       "    </tr>\n",
       "    <tr>\n",
       "      <th>10</th>\n",
       "      <td>528</td>\n",
       "      <td>France</td>\n",
       "      <td>1</td>\n",
       "      <td>31</td>\n",
       "      <td>6</td>\n",
       "      <td>102016.72</td>\n",
       "      <td>2</td>\n",
       "      <td>0</td>\n",
       "      <td>0</td>\n",
       "      <td>80181.12</td>\n",
       "      <td>0</td>\n",
       "    </tr>\n",
       "    <tr>\n",
       "      <th>11</th>\n",
       "      <td>497</td>\n",
       "      <td>Spain</td>\n",
       "      <td>1</td>\n",
       "      <td>24</td>\n",
       "      <td>3</td>\n",
       "      <td>0.00</td>\n",
       "      <td>2</td>\n",
       "      <td>1</td>\n",
       "      <td>0</td>\n",
       "      <td>76390.01</td>\n",
       "      <td>0</td>\n",
       "    </tr>\n",
       "    <tr>\n",
       "      <th>12</th>\n",
       "      <td>476</td>\n",
       "      <td>France</td>\n",
       "      <td>0</td>\n",
       "      <td>34</td>\n",
       "      <td>10</td>\n",
       "      <td>0.00</td>\n",
       "      <td>2</td>\n",
       "      <td>1</td>\n",
       "      <td>0</td>\n",
       "      <td>26260.98</td>\n",
       "      <td>0</td>\n",
       "    </tr>\n",
       "    <tr>\n",
       "      <th>13</th>\n",
       "      <td>549</td>\n",
       "      <td>France</td>\n",
       "      <td>0</td>\n",
       "      <td>25</td>\n",
       "      <td>5</td>\n",
       "      <td>0.00</td>\n",
       "      <td>2</td>\n",
       "      <td>0</td>\n",
       "      <td>0</td>\n",
       "      <td>190857.79</td>\n",
       "      <td>0</td>\n",
       "    </tr>\n",
       "    <tr>\n",
       "      <th>14</th>\n",
       "      <td>635</td>\n",
       "      <td>Spain</td>\n",
       "      <td>0</td>\n",
       "      <td>35</td>\n",
       "      <td>7</td>\n",
       "      <td>0.00</td>\n",
       "      <td>2</td>\n",
       "      <td>1</td>\n",
       "      <td>1</td>\n",
       "      <td>65951.65</td>\n",
       "      <td>0</td>\n",
       "    </tr>\n",
       "    <tr>\n",
       "      <th>15</th>\n",
       "      <td>616</td>\n",
       "      <td>Germany</td>\n",
       "      <td>1</td>\n",
       "      <td>45</td>\n",
       "      <td>3</td>\n",
       "      <td>143129.41</td>\n",
       "      <td>2</td>\n",
       "      <td>0</td>\n",
       "      <td>1</td>\n",
       "      <td>64327.26</td>\n",
       "      <td>0</td>\n",
       "    </tr>\n",
       "    <tr>\n",
       "      <th>16</th>\n",
       "      <td>653</td>\n",
       "      <td>Germany</td>\n",
       "      <td>1</td>\n",
       "      <td>58</td>\n",
       "      <td>1</td>\n",
       "      <td>132602.88</td>\n",
       "      <td>1</td>\n",
       "      <td>1</td>\n",
       "      <td>0</td>\n",
       "      <td>5097.67</td>\n",
       "      <td>1</td>\n",
       "    </tr>\n",
       "    <tr>\n",
       "      <th>17</th>\n",
       "      <td>549</td>\n",
       "      <td>Spain</td>\n",
       "      <td>0</td>\n",
       "      <td>24</td>\n",
       "      <td>9</td>\n",
       "      <td>0.00</td>\n",
       "      <td>2</td>\n",
       "      <td>1</td>\n",
       "      <td>1</td>\n",
       "      <td>14406.41</td>\n",
       "      <td>0</td>\n",
       "    </tr>\n",
       "    <tr>\n",
       "      <th>18</th>\n",
       "      <td>587</td>\n",
       "      <td>Spain</td>\n",
       "      <td>1</td>\n",
       "      <td>45</td>\n",
       "      <td>6</td>\n",
       "      <td>0.00</td>\n",
       "      <td>1</td>\n",
       "      <td>0</td>\n",
       "      <td>0</td>\n",
       "      <td>158684.81</td>\n",
       "      <td>0</td>\n",
       "    </tr>\n",
       "    <tr>\n",
       "      <th>19</th>\n",
       "      <td>726</td>\n",
       "      <td>France</td>\n",
       "      <td>0</td>\n",
       "      <td>24</td>\n",
       "      <td>6</td>\n",
       "      <td>0.00</td>\n",
       "      <td>2</td>\n",
       "      <td>1</td>\n",
       "      <td>1</td>\n",
       "      <td>54724.03</td>\n",
       "      <td>0</td>\n",
       "    </tr>\n",
       "  </tbody>\n",
       "</table>\n",
       "</div>"
      ],
      "text/plain": [
       "    CreditScore Geography  Gender  Age  Tenure    Balance  NumOfProducts  \\\n",
       "0           619    France       0   42       2       0.00              1   \n",
       "1           608     Spain       0   41       1   83807.86              1   \n",
       "2           502    France       0   42       8  159660.80              3   \n",
       "3           699    France       0   39       1       0.00              2   \n",
       "4           850     Spain       0   43       2  125510.82              1   \n",
       "5           645     Spain       1   44       8  113755.78              2   \n",
       "6           822    France       1   50       7       0.00              2   \n",
       "7           376   Germany       0   29       4  115046.74              4   \n",
       "8           501    France       1   44       4  142051.07              2   \n",
       "9           684    France       1   27       2  134603.88              1   \n",
       "10          528    France       1   31       6  102016.72              2   \n",
       "11          497     Spain       1   24       3       0.00              2   \n",
       "12          476    France       0   34      10       0.00              2   \n",
       "13          549    France       0   25       5       0.00              2   \n",
       "14          635     Spain       0   35       7       0.00              2   \n",
       "15          616   Germany       1   45       3  143129.41              2   \n",
       "16          653   Germany       1   58       1  132602.88              1   \n",
       "17          549     Spain       0   24       9       0.00              2   \n",
       "18          587     Spain       1   45       6       0.00              1   \n",
       "19          726    France       0   24       6       0.00              2   \n",
       "\n",
       "    HasCrCard  IsActiveMember  EstimatedSalary  Exited  \n",
       "0           1               1        101348.88       1  \n",
       "1           0               1        112542.58       0  \n",
       "2           1               0        113931.57       1  \n",
       "3           0               0         93826.63       0  \n",
       "4           1               1         79084.10       0  \n",
       "5           1               0        149756.71       1  \n",
       "6           1               1         10062.80       0  \n",
       "7           1               0        119346.88       1  \n",
       "8           0               1         74940.50       0  \n",
       "9           1               1         71725.73       0  \n",
       "10          0               0         80181.12       0  \n",
       "11          1               0         76390.01       0  \n",
       "12          1               0         26260.98       0  \n",
       "13          0               0        190857.79       0  \n",
       "14          1               1         65951.65       0  \n",
       "15          0               1         64327.26       0  \n",
       "16          1               0          5097.67       1  \n",
       "17          1               1         14406.41       0  \n",
       "18          0               0        158684.81       0  \n",
       "19          1               1         54724.03       0  "
      ]
     },
     "execution_count": 11,
     "metadata": {},
     "output_type": "execute_result"
    }
   ],
   "source": [
    "df['Gender'].replace({'Male':1,'Female':0},inplace=True)\n",
    "df.head(20)"
   ]
  },
  {
   "cell_type": "code",
   "execution_count": 12,
   "id": "93c44c78",
   "metadata": {},
   "outputs": [],
   "source": [
    "df1=df[df['Exited']==1]"
   ]
  },
  {
   "cell_type": "code",
   "execution_count": 13,
   "id": "12c840ab",
   "metadata": {},
   "outputs": [
    {
     "data": {
      "text/plain": [
       "(850, 350)"
      ]
     },
     "execution_count": 13,
     "metadata": {},
     "output_type": "execute_result"
    }
   ],
   "source": [
    "column = df1[\"CreditScore\"]\n",
    "max_value = column.max()\n",
    "min_value = column.min()\n",
    "max_value,min_value"
   ]
  },
  {
   "cell_type": "code",
   "execution_count": 14,
   "id": "665c0dc5",
   "metadata": {},
   "outputs": [
    {
     "data": {
      "text/plain": [
       "(84, 18)"
      ]
     },
     "execution_count": 14,
     "metadata": {},
     "output_type": "execute_result"
    }
   ],
   "source": [
    "column = df1[\"Age\"]\n",
    "max_value = column.max()\n",
    "min_value = column.min()\n",
    "max_value,min_value"
   ]
  },
  {
   "cell_type": "code",
   "execution_count": 15,
   "id": "5b28938f",
   "metadata": {},
   "outputs": [
    {
     "data": {
      "text/plain": [
       "(10, 0)"
      ]
     },
     "execution_count": 15,
     "metadata": {},
     "output_type": "execute_result"
    }
   ],
   "source": [
    "column = df1[\"Tenure\"]\n",
    "max_value = column.max()\n",
    "min_value = column.min()\n",
    "max_value,min_value"
   ]
  },
  {
   "cell_type": "code",
   "execution_count": 16,
   "id": "1f3a38c3",
   "metadata": {},
   "outputs": [
    {
     "data": {
      "text/plain": [
       "(250898.09, 0.0)"
      ]
     },
     "execution_count": 16,
     "metadata": {},
     "output_type": "execute_result"
    }
   ],
   "source": [
    "column = df1[\"Balance\"]\n",
    "max_value = column.max()\n",
    "min_value = column.min()\n",
    "max_value,min_value"
   ]
  },
  {
   "cell_type": "code",
   "execution_count": 17,
   "id": "8e038e0b",
   "metadata": {},
   "outputs": [
    {
     "data": {
      "text/plain": [
       "(4, 1)"
      ]
     },
     "execution_count": 17,
     "metadata": {},
     "output_type": "execute_result"
    }
   ],
   "source": [
    "column = df1[\"NumOfProducts\"]\n",
    "max_value = column.max()\n",
    "min_value = column.min()\n",
    "max_value,min_value"
   ]
  },
  {
   "cell_type": "code",
   "execution_count": 18,
   "id": "d86005e3",
   "metadata": {},
   "outputs": [
    {
     "data": {
      "text/plain": [
       "(199808.1, 11.58)"
      ]
     },
     "execution_count": 18,
     "metadata": {},
     "output_type": "execute_result"
    }
   ],
   "source": [
    "column = df1[\"EstimatedSalary\"]\n",
    "max_value = column.max()\n",
    "min_value = column.min()\n",
    "max_value,min_value"
   ]
  },
  {
   "cell_type": "code",
   "execution_count": null,
   "id": "b423804e",
   "metadata": {},
   "outputs": [],
   "source": []
  },
  {
   "cell_type": "code",
   "execution_count": 19,
   "id": "3e30092d",
   "metadata": {},
   "outputs": [
    {
     "data": {
      "text/plain": [
       "(10000, 11)"
      ]
     },
     "execution_count": 19,
     "metadata": {},
     "output_type": "execute_result"
    }
   ],
   "source": [
    "df.shape"
   ]
  },
  {
   "cell_type": "code",
   "execution_count": 20,
   "id": "db6049de",
   "metadata": {},
   "outputs": [
    {
     "data": {
      "image/png": "[encoded data removed]",
      "text/plain": [
       "<Figure size 720x576 with 1 Axes>"
      ]
     },
     "metadata": {},
     "output_type": "display_data"
    }
   ],
   "source": [
    "labels = 'Exited', 'Retained'\n",
    "sizes = [df.Exited[df['Exited']==1].count(), df.Exited[df['Exited']==0].count()]\n",
    "explode = (0, 0.1)\n",
    "fig1, ax1 = plt.subplots(figsize=(10, 8))\n",
    "ax1.pie(sizes, explode=explode, labels=labels, autopct='%1.1f%%',\n",
    "        shadow=True, startangle=90)\n",
    "ax1.axis('equal')\n",
    "plt.title(\"Proportion of customer churned and retained\", size = 20)\n",
    "plt.show()"
   ]
  },
  {
   "cell_type": "code",
   "execution_count": 21,
   "id": "e8dad120",
   "metadata": {},
   "outputs": [
    {
     "data": {
      "text/plain": [
       "<AxesSubplot:xlabel='IsActiveMember', ylabel='count'>"
      ]
     },
     "execution_count": 21,
     "metadata": {},
     "output_type": "execute_result"
    },
    {
     "data": {
      "image/png": "[encoded data removed]",
      "text/plain": [
       "<Figure size 1440x864 with 4 Axes>"
      ]
     },
     "metadata": {
      "needs_background": "light"
     },
     "output_type": "display_data"
    }
   ],
   "source": [
    " # We first review the 'Status' relation with categorical variables\n",
    "import seaborn as sns\n",
    "fig, axarr = plt.subplots(2, 2, figsize=(20, 12))\n",
    "sns.countplot(x='Geography', hue = 'Exited',data = df, ax=axarr[0][0])\n",
    "sns.countplot(x='Gender', hue = 'Exited',data = df, ax=axarr[0][1])\n",
    "sns.countplot(x='HasCrCard', hue = 'Exited',data = df, ax=axarr[1][0])\n",
    "sns.countplot(x='IsActiveMember', hue = 'Exited',data = df, ax=axarr[1][1])"
   ]
  },
  {
   "cell_type": "code",
   "execution_count": 22,
   "id": "869560e9",
   "metadata": {},
   "outputs": [
    {
     "data": {
      "text/plain": [
       "Index(['CreditScore', 'Gender', 'Age', 'Tenure', 'Balance', 'NumOfProducts',\n",
       "       'HasCrCard', 'IsActiveMember', 'EstimatedSalary', 'Exited',\n",
       "       'Geography_France', 'Geography_Germany', 'Geography_Spain'],\n",
       "      dtype='object')"
      ]
     },
     "execution_count": 22,
     "metadata": {},
     "output_type": "execute_result"
    }
   ],
   "source": [
    "df3 = pd.get_dummies(data=df, columns=['Geography'])\n",
    "df3.columns"
   ]
  },
  {
   "cell_type": "code",
   "execution_count": 23,
   "id": "9a90da10",
   "metadata": {},
   "outputs": [
    {
     "data": {
      "text/html": [
       "<div>\n",
       "<style scoped>\n",
       "    .dataframe tbody tr th:only-of-type {\n",
       "        vertical-align: middle;\n",
       "    }\n",
       "\n",
       "    .dataframe tbody tr th {\n",
       "        vertical-align: top;\n",
       "    }\n",
       "\n",
       "    .dataframe thead th {\n",
       "        text-align: right;\n",
       "    }\n",
       "</style>\n",
       "<table border=\"1\" class=\"dataframe\">\n",
       "  <thead>\n",
       "    <tr style=\"text-align: right;\">\n",
       "      <th></th>\n",
       "      <th>CreditScore</th>\n",
       "      <th>Gender</th>\n",
       "      <th>Age</th>\n",
       "      <th>Tenure</th>\n",
       "      <th>Balance</th>\n",
       "      <th>NumOfProducts</th>\n",
       "      <th>HasCrCard</th>\n",
       "      <th>IsActiveMember</th>\n",
       "      <th>EstimatedSalary</th>\n",
       "      <th>Exited</th>\n",
       "      <th>Geography_France</th>\n",
       "      <th>Geography_Germany</th>\n",
       "      <th>Geography_Spain</th>\n",
       "    </tr>\n",
       "  </thead>\n",
       "  <tbody>\n",
       "    <tr>\n",
       "      <th>0</th>\n",
       "      <td>619</td>\n",
       "      <td>0</td>\n",
       "      <td>42</td>\n",
       "      <td>2</td>\n",
       "      <td>0.00</td>\n",
       "      <td>1</td>\n",
       "      <td>1</td>\n",
       "      <td>1</td>\n",
       "      <td>101348.88</td>\n",
       "      <td>1</td>\n",
       "      <td>1</td>\n",
       "      <td>0</td>\n",
       "      <td>0</td>\n",
       "    </tr>\n",
       "    <tr>\n",
       "      <th>1</th>\n",
       "      <td>608</td>\n",
       "      <td>0</td>\n",
       "      <td>41</td>\n",
       "      <td>1</td>\n",
       "      <td>83807.86</td>\n",
       "      <td>1</td>\n",
       "      <td>0</td>\n",
       "      <td>1</td>\n",
       "      <td>112542.58</td>\n",
       "      <td>0</td>\n",
       "      <td>0</td>\n",
       "      <td>0</td>\n",
       "      <td>1</td>\n",
       "    </tr>\n",
       "    <tr>\n",
       "      <th>2</th>\n",
       "      <td>502</td>\n",
       "      <td>0</td>\n",
       "      <td>42</td>\n",
       "      <td>8</td>\n",
       "      <td>159660.80</td>\n",
       "      <td>3</td>\n",
       "      <td>1</td>\n",
       "      <td>0</td>\n",
       "      <td>113931.57</td>\n",
       "      <td>1</td>\n",
       "      <td>1</td>\n",
       "      <td>0</td>\n",
       "      <td>0</td>\n",
       "    </tr>\n",
       "    <tr>\n",
       "      <th>3</th>\n",
       "      <td>699</td>\n",
       "      <td>0</td>\n",
       "      <td>39</td>\n",
       "      <td>1</td>\n",
       "      <td>0.00</td>\n",
       "      <td>2</td>\n",
       "      <td>0</td>\n",
       "      <td>0</td>\n",
       "      <td>93826.63</td>\n",
       "      <td>0</td>\n",
       "      <td>1</td>\n",
       "      <td>0</td>\n",
       "      <td>0</td>\n",
       "    </tr>\n",
       "    <tr>\n",
       "      <th>4</th>\n",
       "      <td>850</td>\n",
       "      <td>0</td>\n",
       "      <td>43</td>\n",
       "      <td>2</td>\n",
       "      <td>125510.82</td>\n",
       "      <td>1</td>\n",
       "      <td>1</td>\n",
       "      <td>1</td>\n",
       "      <td>79084.10</td>\n",
       "      <td>0</td>\n",
       "      <td>0</td>\n",
       "      <td>0</td>\n",
       "      <td>1</td>\n",
       "    </tr>\n",
       "  </tbody>\n",
       "</table>\n",
       "</div>"
      ],
      "text/plain": [
       "   CreditScore  Gender  Age  Tenure    Balance  NumOfProducts  HasCrCard  \\\n",
       "0          619       0   42       2       0.00              1          1   \n",
       "1          608       0   41       1   83807.86              1          0   \n",
       "2          502       0   42       8  159660.80              3          1   \n",
       "3          699       0   39       1       0.00              2          0   \n",
       "4          850       0   43       2  125510.82              1          1   \n",
       "\n",
       "   IsActiveMember  EstimatedSalary  Exited  Geography_France  \\\n",
       "0               1        101348.88       1                 1   \n",
       "1               1        112542.58       0                 0   \n",
       "2               0        113931.57       1                 1   \n",
       "3               0         93826.63       0                 1   \n",
       "4               1         79084.10       0                 0   \n",
       "\n",
       "   Geography_Germany  Geography_Spain  \n",
       "0                  0                0  \n",
       "1                  0                1  \n",
       "2                  0                0  \n",
       "3                  0                0  \n",
       "4                  0                1  "
      ]
     },
     "execution_count": 23,
     "metadata": {},
     "output_type": "execute_result"
    }
   ],
   "source": [
    "df3.head()"
   ]
  },
  {
   "cell_type": "code",
   "execution_count": 24,
   "id": "4756b6c1",
   "metadata": {},
   "outputs": [
    {
     "data": {
      "text/plain": [
       "CreditScore             670.00\n",
       "Gender                    0.00\n",
       "Age                      57.00\n",
       "Tenure                    3.00\n",
       "Balance              175575.95\n",
       "NumOfProducts             2.00\n",
       "HasCrCard                 1.00\n",
       "IsActiveMember            0.00\n",
       "EstimatedSalary       99061.75\n",
       "Exited                    1.00\n",
       "Geography_France          0.00\n",
       "Geography_Germany         0.00\n",
       "Geography_Spain           1.00\n",
       "Name: 8225, dtype: float64"
      ]
     },
     "execution_count": 24,
     "metadata": {},
     "output_type": "execute_result"
    }
   ],
   "source": [
    "df3.iloc[8225]"
   ]
  },
  {
   "cell_type": "code",
   "execution_count": 22,
   "id": "9afbe1fd",
   "metadata": {},
   "outputs": [],
   "source": [
    "cols_to_scale = ['Tenure','CreditScore','Age','Balance','EstimatedSalary','NumOfProducts']\n",
    "\n",
    "from sklearn.preprocessing import MinMaxScaler\n",
    "scaler = MinMaxScaler()\n",
    "df3[cols_to_scale] = scaler.fit_transform(df3[cols_to_scale])"
   ]
  },
  {
   "cell_type": "code",
   "execution_count": 23,
   "id": "9032495d",
   "metadata": {},
   "outputs": [
    {
     "name": "stdout",
     "output_type": "stream",
     "text": [
      "CreditScore: [0.538 0.516 0.304 0.698 1.    0.59  0.944 0.052 0.302 0.668 0.356 0.294\n",
      " 0.252 0.398 0.57  0.532 0.606 0.474 0.752 0.764 0.572 0.32  0.638 0.992\n",
      " 0.454 0.812 0.442 0.448 0.122 0.482 0.366 0.406 0.34  0.744 0.25  0.28\n",
      " 0.908 0.464 0.244 0.23  0.412 0.968 0.62  0.852 0.958 0.574 0.4   0.696\n",
      " 0.47  0.876 0.61  0.502 0.612 0.75  0.322 0.528 0.784 0.674 0.41  0.506\n",
      " 0.802 0.462 0.77  0.622 0.65  0.776 0.926 0.614 0.508 0.338 0.628 0.656\n",
      " 0.814 0.132 0.63  0.854 0.386 0.312 0.286 0.604 0.8   0.758 0.592 0.594\n",
      " 0.916 0.348 0.838 0.76  0.33  0.846 0.928 0.72  0.126 0.546 0.64  0.544\n",
      " 0.87  0.51  0.258 0.67  0.376 0.424 0.742 0.556 0.636 0.956 0.648 0.55\n",
      " 0.164 0.84  0.816 0.89  0.672 0.878 0.478 0.222 0.468 0.458 0.626 0.664\n",
      " 0.886 0.682 0.27  0.6   0.808 0.37  0.732 0.378 0.712 0.472 0.562 0.734\n",
      " 0.9   0.666 0.708 0.53  0.634 0.268 0.26  0.456 0.324 0.512 0.494 0.856\n",
      " 0.328 0.35  0.73  0.46  0.914 0.342 0.818 0.332 0.722 0.536 0.586 0.642\n",
      " 0.678 0.54  0.652 0.444 0.69  0.484 0.434 0.688 0.394 0.488 0.646 0.52\n",
      " 0.834 0.826 0.724 0.706 0.624 0.618 0.346 0.844 0.39  0.568 0.778 0.842\n",
      " 0.662 0.388 0.692 0.832 0.754 0.686 0.414 0.362 0.296 0.602 0.882 0.766\n",
      " 0.922 0.714 0.728 0.864 0.85  0.898 0.504 0.788 0.476 0.794 0.466 0.554\n",
      " 0.762 0.558 0.176 0.584 0.912 0.248 0.418 0.158 0.66  0.798 0.768 0.588\n",
      " 0.552 0.598 0.91  0.736 0.98  0.56  0.608 0.824 0.436 0.526 0.344 0.774\n",
      " 0.596 0.186 0.58  0.38  0.22  0.486 0.902 0.522 0.904 0.79  0.266 0.68\n",
      " 0.284 0.718 0.71  0.42  0.804 0.702 0.374 0.274 0.492 0.704 0.272 0.748\n",
      " 0.396 0.228 0.88  0.368 0.796 0.288 0.48  0.236 0.318 0.936 0.932 0.372\n",
      " 0.806 0.848 0.542 0.438 0.616 0.896 0.582 0.384 0.684 0.578 0.83  0.44\n",
      " 0.576 0.498 0.564 0.858 0.354 0.428 0.966 0.308 0.984 0.316 0.134 0.496\n",
      " 0.782 0.514 0.822 0.996 0.392 0.178 0.81  0.82  0.352 0.726 0.7   0.632\n",
      " 0.432 0.29  0.676 0.524 0.254 0.154 0.978 0.938 0.74  0.218 0.306 0.548\n",
      " 0.358 0.426 0.264 0.892 0.19  0.792 0.872 0.408 0.644 0.874 0.298 0.988\n",
      " 0.2   0.93  0.976 0.906 0.772 0.566 0.5   0.658 0.334 0.884 0.786 0.276\n",
      " 0.142 0.982 0.716 0.314 0.31  0.212 0.17  0.422 0.336 0.43  0.756 0.868\n",
      " 0.404 0.518 0.828 0.694 0.746 0.402 0.188 0.738 0.292 0.382 0.96  0.924\n",
      " 0.654 0.14  0.49  0.534 0.918 0.3   0.952 0.168 0.326 0.256 0.894 0.026\n",
      " 0.098 0.226 0.86  0.204 0.45  0.974 0.888 0.948 0.156 0.946 0.862 0.998\n",
      " 0.278 0.162 0.214 0.836 0.962 0.018 0.94  0.446 0.452 0.416 0.934 0.198\n",
      " 0.18  0.13  0.942 0.36  0.    0.192 0.15  0.78  0.262 0.866 0.016 0.99\n",
      " 0.202 0.216 0.238 0.146 0.108 0.972 0.246 0.97  0.232 0.282 0.002 0.954\n",
      " 0.986 0.03  0.364 0.128 0.206 0.242 0.102 0.92  0.964 0.24  0.194 0.144\n",
      " 0.95  0.16  0.172 0.152 0.116 0.994 0.136 0.174 0.12  0.208 0.114 0.21\n",
      " 0.224 0.072 0.11  0.066 0.09  0.234 0.166 0.184 0.148 0.196 0.182 0.034\n",
      " 0.124 0.064 0.046 0.138]\n",
      "Gender: [0 1]\n",
      "Age: [0.32432432 0.31081081 0.28378378 0.33783784 0.35135135 0.43243243\n",
      " 0.14864865 0.12162162 0.17567568 0.08108108 0.21621622 0.09459459\n",
      " 0.22972973 0.36486486 0.54054054 0.18918919 0.27027027 0.37837838\n",
      " 0.24324324 0.2027027  0.2972973  0.44594595 0.58108108 0.41891892\n",
      " 0.25675676 0.01351351 0.64864865 0.51351351 0.10810811 0.04054054\n",
      " 0.5        0.77027027 0.05405405 0.16216216 0.13513514 0.63513514\n",
      " 0.40540541 0.45945946 0.52702703 0.74324324 0.39189189 0.48648649\n",
      " 0.72972973 0.02702703 0.66216216 0.82432432 0.59459459 0.47297297\n",
      " 0.83783784 0.55405405 0.67567568 0.06756757 0.56756757 0.7027027\n",
      " 0.60810811 0.62162162 0.         0.86486486 0.68918919 0.75675676\n",
      " 0.71621622 0.78378378 0.7972973  0.94594595 0.90540541 0.89189189\n",
      " 0.81081081 0.85135135 1.         0.87837838]\n",
      "Tenure: [0.2 0.1 0.8 0.7 0.4 0.6 0.3 1.  0.5 0.9 0. ]\n",
      "Balance: [0.         0.33403148 0.63635718 ... 0.22865702 0.29922631 0.51870777]\n",
      "NumOfProducts: [0.         0.66666667 0.33333333 1.        ]\n",
      "HasCrCard: [1 0]\n",
      "IsActiveMember: [1 0]\n",
      "EstimatedSalary: [0.50673489 0.56270874 0.56965435 ... 0.21039009 0.46442905 0.19091423]\n",
      "Exited: [1 0]\n",
      "Geography_France: [1 0]\n",
      "Geography_Germany: [0 1]\n",
      "Geography_Spain: [0 1]\n"
     ]
    }
   ],
   "source": [
    "for col in df3:\n",
    "    print(f'{col}: {df3[col].unique()}')"
   ]
  },
  {
   "cell_type": "code",
   "execution_count": 24,
   "id": "34c4f571",
   "metadata": {},
   "outputs": [],
   "source": [
    "X = df3.drop(['Exited','Geography_Spain'],axis='columns')\n",
    "y = df3['Exited']\n",
    "from sklearn.model_selection import train_test_split\n",
    "X_train, X_test, y_train, y_test = train_test_split(X, y, test_size = 0.2, random_state = 0)"
   ]
  },
  {
   "cell_type": "code",
   "execution_count": 25,
   "id": "b8b814a6",
   "metadata": {},
   "outputs": [
    {
     "data": {
      "text/plain": [
       "(8000, 11)"
      ]
     },
     "execution_count": 25,
     "metadata": {},
     "output_type": "execute_result"
    }
   ],
   "source": [
    "X_train.shape"
   ]
  },
  {
   "cell_type": "code",
   "execution_count": 26,
   "id": "70c99380",
   "metadata": {},
   "outputs": [
    {
     "data": {
      "text/plain": [
       "(10000,)"
      ]
     },
     "execution_count": 26,
     "metadata": {},
     "output_type": "execute_result"
    }
   ],
   "source": [
    "y.shape"
   ]
  },
  {
   "cell_type": "code",
   "execution_count": 27,
   "id": "3cd419b6",
   "metadata": {},
   "outputs": [
    {
     "data": {
      "text/plain": [
       "CreditScore          0.794000\n",
       "Gender               1.000000\n",
       "Age                  0.310811\n",
       "Tenure               0.900000\n",
       "Balance              0.000000\n",
       "NumOfProducts        0.000000\n",
       "HasCrCard            1.000000\n",
       "IsActiveMember       0.000000\n",
       "EstimatedSalary      0.162112\n",
       "Geography_France     0.000000\n",
       "Geography_Germany    0.000000\n",
       "Name: 5658, dtype: float64"
      ]
     },
     "execution_count": 27,
     "metadata": {},
     "output_type": "execute_result"
    }
   ],
   "source": [
    "X.iloc[822]"
   ]
  },
  {
   "cell_type": "code",
   "execution_count": 28,
   "id": "ffedeb1a",
   "metadata": {},
   "outputs": [
    {
     "data": {
      "text/plain": [
       "(8000, 11)"
      ]
     },
     "execution_count": 28,
     "metadata": {},
     "output_type": "execute_result"
    }
   ],
   "source": [
    "X_train.shape"
   ]
  },
  {
   "cell_type": "code",
   "execution_count": null,
   "id": "a418214e",
   "metadata": {},
   "outputs": [],
   "source": []
  },
  {
   "cell_type": "code",
   "execution_count": 29,
   "id": "a7051752",
   "metadata": {},
   "outputs": [
    {
     "data": {
      "text/plain": [
       "(8000, 11)"
      ]
     },
     "execution_count": 29,
     "metadata": {},
     "output_type": "execute_result"
    }
   ],
   "source": [
    "X_train.shape"
   ]
  },
  {
   "cell_type": "code",
   "execution_count": 30,
   "id": "aba89880",
   "metadata": {},
   "outputs": [
    {
     "name": "stdout",
     "output_type": "stream",
     "text": [
      "Epoch 1/150\n",
      "250/250 [==============================] - 1s 2ms/step - loss: 0.5716 - accuracy: 0.7941\n",
      "Epoch 2/150\n",
      "250/250 [==============================] - 1s 2ms/step - loss: 0.4835 - accuracy: 0.7960\n",
      "Epoch 3/150\n",
      "250/250 [==============================] - 1s 2ms/step - loss: 0.4705 - accuracy: 0.7960\n",
      "Epoch 4/150\n",
      "250/250 [==============================] - 1s 2ms/step - loss: 0.4629 - accuracy: 0.7972\n",
      "Epoch 5/150\n",
      "250/250 [==============================] - 1s 2ms/step - loss: 0.4562 - accuracy: 0.8018\n",
      "Epoch 6/150\n",
      "250/250 [==============================] - 1s 2ms/step - loss: 0.4506 - accuracy: 0.8021\n",
      "Epoch 7/150\n",
      "250/250 [==============================] - 1s 2ms/step - loss: 0.4457 - accuracy: 0.8044\n",
      "Epoch 8/150\n",
      "250/250 [==============================] - 1s 2ms/step - loss: 0.4406 - accuracy: 0.8085\n",
      "Epoch 9/150\n",
      "250/250 [==============================] - 1s 2ms/step - loss: 0.4377 - accuracy: 0.8105\n",
      "Epoch 10/150\n",
      "250/250 [==============================] - 1s 2ms/step - loss: 0.4344 - accuracy: 0.8102\n",
      "Epoch 11/150\n",
      "250/250 [==============================] - 1s 3ms/step - loss: 0.4328 - accuracy: 0.8099\n",
      "Epoch 12/150\n",
      "250/250 [==============================] - 1s 3ms/step - loss: 0.4320 - accuracy: 0.8094\n",
      "Epoch 13/150\n",
      "250/250 [==============================] - 1s 3ms/step - loss: 0.4320 - accuracy: 0.8079\n",
      "Epoch 14/150\n",
      "250/250 [==============================] - 1s 3ms/step - loss: 0.4311 - accuracy: 0.8102\n",
      "Epoch 15/150\n",
      "250/250 [==============================] - 1s 3ms/step - loss: 0.4303 - accuracy: 0.8089\n",
      "Epoch 16/150\n",
      "250/250 [==============================] - 1s 3ms/step - loss: 0.4303 - accuracy: 0.8099\n",
      "Epoch 17/150\n",
      "250/250 [==============================] - 1s 3ms/step - loss: 0.4301 - accuracy: 0.8084\n",
      "Epoch 18/150\n",
      "250/250 [==============================] - 1s 3ms/step - loss: 0.4298 - accuracy: 0.8070\n",
      "Epoch 19/150\n",
      "250/250 [==============================] - 1s 3ms/step - loss: 0.4299 - accuracy: 0.8079\n",
      "Epoch 20/150\n",
      "250/250 [==============================] - 1s 3ms/step - loss: 0.4301 - accuracy: 0.8100\n",
      "Epoch 21/150\n",
      "250/250 [==============================] - 1s 3ms/step - loss: 0.4302 - accuracy: 0.8071\n",
      "Epoch 22/150\n",
      "250/250 [==============================] - 1s 3ms/step - loss: 0.4299 - accuracy: 0.8073\n",
      "Epoch 23/150\n",
      "250/250 [==============================] - 1s 3ms/step - loss: 0.4295 - accuracy: 0.8085\n",
      "Epoch 24/150\n",
      "250/250 [==============================] - 1s 3ms/step - loss: 0.4294 - accuracy: 0.8075\n",
      "Epoch 25/150\n",
      "250/250 [==============================] - 1s 3ms/step - loss: 0.4296 - accuracy: 0.8076\n",
      "Epoch 26/150\n",
      "250/250 [==============================] - 1s 3ms/step - loss: 0.4298 - accuracy: 0.8062\n",
      "Epoch 27/150\n",
      "250/250 [==============================] - 1s 3ms/step - loss: 0.4297 - accuracy: 0.8083\n",
      "Epoch 28/150\n",
      "250/250 [==============================] - 1s 3ms/step - loss: 0.4292 - accuracy: 0.8080\n",
      "Epoch 29/150\n",
      "250/250 [==============================] - 1s 3ms/step - loss: 0.4292 - accuracy: 0.8071\n",
      "Epoch 30/150\n",
      "250/250 [==============================] - 1s 3ms/step - loss: 0.4294 - accuracy: 0.8077\n",
      "Epoch 31/150\n",
      "250/250 [==============================] - 1s 3ms/step - loss: 0.4291 - accuracy: 0.8067\n",
      "Epoch 32/150\n",
      "250/250 [==============================] - 1s 3ms/step - loss: 0.4292 - accuracy: 0.8071\n",
      "Epoch 33/150\n",
      "250/250 [==============================] - 1s 3ms/step - loss: 0.4294 - accuracy: 0.8059\n",
      "Epoch 34/150\n",
      "250/250 [==============================] - 1s 3ms/step - loss: 0.4290 - accuracy: 0.8060\n",
      "Epoch 35/150\n",
      "250/250 [==============================] - 1s 3ms/step - loss: 0.4289 - accuracy: 0.8051\n",
      "Epoch 36/150\n",
      "250/250 [==============================] - 1s 3ms/step - loss: 0.4285 - accuracy: 0.8064\n",
      "Epoch 37/150\n",
      "250/250 [==============================] - 1s 3ms/step - loss: 0.4283 - accuracy: 0.8061\n",
      "Epoch 38/150\n",
      "250/250 [==============================] - 1s 3ms/step - loss: 0.4282 - accuracy: 0.8067\n",
      "Epoch 39/150\n",
      "250/250 [==============================] - 1s 3ms/step - loss: 0.4269 - accuracy: 0.8079\n",
      "Epoch 40/150\n",
      "250/250 [==============================] - 1s 3ms/step - loss: 0.4270 - accuracy: 0.8079\n",
      "Epoch 41/150\n",
      "250/250 [==============================] - 1s 3ms/step - loss: 0.4269 - accuracy: 0.8079\n",
      "Epoch 42/150\n",
      "250/250 [==============================] - 1s 3ms/step - loss: 0.4267 - accuracy: 0.8061\n",
      "Epoch 43/150\n",
      "250/250 [==============================] - 1s 3ms/step - loss: 0.4262 - accuracy: 0.8096\n",
      "Epoch 44/150\n",
      "250/250 [==============================] - 1s 3ms/step - loss: 0.4253 - accuracy: 0.8091\n",
      "Epoch 45/150\n",
      "250/250 [==============================] - 1s 3ms/step - loss: 0.4249 - accuracy: 0.8096\n",
      "Epoch 46/150\n",
      "250/250 [==============================] - 1s 3ms/step - loss: 0.4248 - accuracy: 0.8101\n",
      "Epoch 47/150\n",
      "250/250 [==============================] - 1s 3ms/step - loss: 0.4243 - accuracy: 0.8091\n",
      "Epoch 48/150\n",
      "250/250 [==============================] - 1s 3ms/step - loss: 0.4236 - accuracy: 0.8119\n",
      "Epoch 49/150\n",
      "250/250 [==============================] - 1s 3ms/step - loss: 0.4233 - accuracy: 0.8110\n",
      "Epoch 50/150\n",
      "250/250 [==============================] - 1s 3ms/step - loss: 0.4223 - accuracy: 0.8144\n",
      "Epoch 51/150\n",
      "250/250 [==============================] - 1s 3ms/step - loss: 0.4218 - accuracy: 0.8150\n",
      "Epoch 52/150\n",
      "250/250 [==============================] - 1s 3ms/step - loss: 0.4213 - accuracy: 0.8163\n",
      "Epoch 53/150\n",
      "250/250 [==============================] - 1s 3ms/step - loss: 0.4206 - accuracy: 0.8164\n",
      "Epoch 54/150\n",
      "250/250 [==============================] - 1s 3ms/step - loss: 0.4198 - accuracy: 0.8191\n",
      "Epoch 55/150\n",
      "250/250 [==============================] - 1s 3ms/step - loss: 0.4183 - accuracy: 0.8188\n",
      "Epoch 56/150\n",
      "250/250 [==============================] - 1s 3ms/step - loss: 0.4173 - accuracy: 0.8198\n",
      "Epoch 57/150\n",
      "250/250 [==============================] - 1s 3ms/step - loss: 0.4167 - accuracy: 0.8206\n",
      "Epoch 58/150\n",
      "250/250 [==============================] - 1s 3ms/step - loss: 0.4156 - accuracy: 0.8219\n",
      "Epoch 59/150\n",
      "250/250 [==============================] - 1s 3ms/step - loss: 0.4147 - accuracy: 0.8248\n",
      "Epoch 60/150\n",
      "250/250 [==============================] - 1s 3ms/step - loss: 0.4143 - accuracy: 0.8245\n",
      "Epoch 61/150\n",
      "250/250 [==============================] - 1s 3ms/step - loss: 0.4134 - accuracy: 0.8270\n",
      "Epoch 62/150\n",
      "250/250 [==============================] - 1s 3ms/step - loss: 0.4128 - accuracy: 0.8274\n",
      "Epoch 63/150\n",
      "250/250 [==============================] - 1s 3ms/step - loss: 0.4120 - accuracy: 0.8291\n",
      "Epoch 64/150\n",
      "250/250 [==============================] - 1s 3ms/step - loss: 0.4113 - accuracy: 0.8295\n",
      "Epoch 65/150\n",
      "250/250 [==============================] - 1s 3ms/step - loss: 0.4104 - accuracy: 0.8313\n",
      "Epoch 66/150\n",
      "250/250 [==============================] - 1s 3ms/step - loss: 0.4099 - accuracy: 0.8320\n",
      "Epoch 67/150\n",
      "250/250 [==============================] - 1s 3ms/step - loss: 0.4095 - accuracy: 0.8314\n",
      "Epoch 68/150\n",
      "250/250 [==============================] - 1s 3ms/step - loss: 0.4094 - accuracy: 0.8311\n",
      "Epoch 69/150\n",
      "250/250 [==============================] - 1s 3ms/step - loss: 0.4086 - accuracy: 0.8307\n",
      "Epoch 70/150\n",
      "250/250 [==============================] - 1s 3ms/step - loss: 0.4084 - accuracy: 0.8322\n",
      "Epoch 71/150\n",
      "250/250 [==============================] - 1s 3ms/step - loss: 0.4078 - accuracy: 0.8320\n",
      "Epoch 72/150\n",
      "250/250 [==============================] - 1s 3ms/step - loss: 0.4075 - accuracy: 0.8335\n",
      "Epoch 73/150\n",
      "250/250 [==============================] - 1s 3ms/step - loss: 0.4067 - accuracy: 0.8320\n",
      "Epoch 74/150\n",
      "250/250 [==============================] - 1s 3ms/step - loss: 0.4071 - accuracy: 0.8344\n",
      "Epoch 75/150\n",
      "250/250 [==============================] - 1s 3ms/step - loss: 0.4070 - accuracy: 0.8332\n",
      "Epoch 76/150\n",
      "250/250 [==============================] - 1s 3ms/step - loss: 0.4064 - accuracy: 0.8336\n",
      "Epoch 77/150\n",
      "250/250 [==============================] - 1s 3ms/step - loss: 0.4061 - accuracy: 0.8339\n",
      "Epoch 78/150\n",
      "250/250 [==============================] - 1s 3ms/step - loss: 0.4062 - accuracy: 0.8344\n",
      "Epoch 79/150\n",
      "250/250 [==============================] - 1s 3ms/step - loss: 0.4061 - accuracy: 0.8329\n",
      "Epoch 80/150\n",
      "250/250 [==============================] - 1s 3ms/step - loss: 0.4060 - accuracy: 0.8328\n",
      "Epoch 81/150\n",
      "250/250 [==============================] - 1s 3ms/step - loss: 0.4063 - accuracy: 0.8353\n",
      "Epoch 82/150\n",
      "250/250 [==============================] - 1s 3ms/step - loss: 0.4053 - accuracy: 0.8342\n",
      "Epoch 83/150\n",
      "250/250 [==============================] - 1s 3ms/step - loss: 0.4059 - accuracy: 0.8350\n",
      "Epoch 84/150\n",
      "250/250 [==============================] - 1s 3ms/step - loss: 0.4051 - accuracy: 0.8344\n",
      "Epoch 85/150\n",
      "250/250 [==============================] - 1s 3ms/step - loss: 0.4048 - accuracy: 0.8338\n",
      "Epoch 86/150\n",
      "250/250 [==============================] - 1s 3ms/step - loss: 0.4051 - accuracy: 0.8332\n",
      "Epoch 87/150\n",
      "250/250 [==============================] - 1s 3ms/step - loss: 0.4045 - accuracy: 0.8344\n",
      "Epoch 88/150\n",
      "250/250 [==============================] - 1s 3ms/step - loss: 0.4045 - accuracy: 0.8344\n",
      "Epoch 89/150\n",
      "250/250 [==============================] - 1s 3ms/step - loss: 0.4044 - accuracy: 0.8351\n",
      "Epoch 90/150\n",
      "250/250 [==============================] - 1s 3ms/step - loss: 0.4045 - accuracy: 0.8363\n",
      "Epoch 91/150\n",
      "250/250 [==============================] - 1s 3ms/step - loss: 0.4040 - accuracy: 0.8350\n",
      "Epoch 92/150\n",
      "250/250 [==============================] - 1s 3ms/step - loss: 0.4039 - accuracy: 0.8347\n",
      "Epoch 93/150\n",
      "250/250 [==============================] - 1s 3ms/step - loss: 0.4035 - accuracy: 0.8346\n",
      "Epoch 94/150\n",
      "250/250 [==============================] - 1s 3ms/step - loss: 0.4037 - accuracy: 0.8350\n",
      "Epoch 95/150\n",
      "250/250 [==============================] - 1s 3ms/step - loss: 0.4037 - accuracy: 0.8359\n",
      "Epoch 96/150\n",
      "250/250 [==============================] - 1s 3ms/step - loss: 0.4037 - accuracy: 0.8347\n",
      "Epoch 97/150\n",
      "250/250 [==============================] - 1s 3ms/step - loss: 0.4036 - accuracy: 0.8351\n",
      "Epoch 98/150\n",
      "250/250 [==============================] - 1s 3ms/step - loss: 0.4038 - accuracy: 0.8353\n",
      "Epoch 99/150\n",
      "250/250 [==============================] - 1s 3ms/step - loss: 0.4032 - accuracy: 0.8356\n",
      "Epoch 100/150\n",
      "250/250 [==============================] - 1s 3ms/step - loss: 0.4039 - accuracy: 0.8344\n",
      "Epoch 101/150\n",
      "250/250 [==============================] - 1s 3ms/step - loss: 0.4027 - accuracy: 0.8360\n",
      "Epoch 102/150\n",
      "250/250 [==============================] - 1s 3ms/step - loss: 0.4031 - accuracy: 0.8357\n",
      "Epoch 103/150\n",
      "250/250 [==============================] - 1s 3ms/step - loss: 0.4027 - accuracy: 0.8346\n",
      "Epoch 104/150\n",
      "250/250 [==============================] - 1s 3ms/step - loss: 0.4030 - accuracy: 0.8351\n",
      "Epoch 105/150\n",
      "250/250 [==============================] - 1s 3ms/step - loss: 0.4024 - accuracy: 0.8354\n",
      "Epoch 106/150\n",
      "250/250 [==============================] - 1s 3ms/step - loss: 0.4028 - accuracy: 0.8354\n",
      "Epoch 107/150\n",
      "250/250 [==============================] - 1s 3ms/step - loss: 0.4025 - accuracy: 0.8353\n",
      "Epoch 108/150\n",
      "250/250 [==============================] - 1s 3ms/step - loss: 0.4024 - accuracy: 0.8360\n",
      "Epoch 109/150\n",
      "250/250 [==============================] - 1s 3ms/step - loss: 0.4018 - accuracy: 0.8364\n",
      "Epoch 110/150\n",
      "250/250 [==============================] - 1s 3ms/step - loss: 0.4024 - accuracy: 0.8351\n",
      "Epoch 111/150\n",
      "250/250 [==============================] - 1s 3ms/step - loss: 0.4022 - accuracy: 0.8357\n",
      "Epoch 112/150\n",
      "250/250 [==============================] - 1s 3ms/step - loss: 0.4016 - accuracy: 0.8347\n",
      "Epoch 113/150\n",
      "250/250 [==============================] - 1s 3ms/step - loss: 0.4021 - accuracy: 0.8351\n",
      "Epoch 114/150\n",
      "250/250 [==============================] - 1s 3ms/step - loss: 0.4016 - accuracy: 0.8349\n",
      "Epoch 115/150\n",
      "250/250 [==============================] - 1s 3ms/step - loss: 0.4015 - accuracy: 0.8340\n",
      "Epoch 116/150\n",
      "250/250 [==============================] - 1s 3ms/step - loss: 0.4018 - accuracy: 0.8346\n",
      "Epoch 117/150\n",
      "250/250 [==============================] - 1s 3ms/step - loss: 0.4015 - accuracy: 0.8350\n",
      "Epoch 118/150\n",
      "250/250 [==============================] - 1s 3ms/step - loss: 0.4013 - accuracy: 0.8354\n",
      "Epoch 119/150\n",
      "250/250 [==============================] - 1s 3ms/step - loss: 0.4012 - accuracy: 0.8341\n",
      "Epoch 120/150\n",
      "250/250 [==============================] - 1s 3ms/step - loss: 0.4013 - accuracy: 0.8340\n",
      "Epoch 121/150\n",
      "250/250 [==============================] - 1s 3ms/step - loss: 0.4003 - accuracy: 0.8366\n",
      "Epoch 122/150\n",
      "250/250 [==============================] - 1s 3ms/step - loss: 0.4013 - accuracy: 0.8346\n",
      "Epoch 123/150\n",
      "250/250 [==============================] - 1s 3ms/step - loss: 0.4008 - accuracy: 0.8350\n",
      "Epoch 124/150\n",
      "250/250 [==============================] - 1s 3ms/step - loss: 0.4010 - accuracy: 0.8359\n",
      "Epoch 125/150\n",
      "250/250 [==============================] - 1s 3ms/step - loss: 0.4008 - accuracy: 0.8350\n",
      "Epoch 126/150\n",
      "250/250 [==============================] - 1s 3ms/step - loss: 0.4007 - accuracy: 0.8361\n",
      "Epoch 127/150\n",
      "250/250 [==============================] - 1s 3ms/step - loss: 0.4006 - accuracy: 0.8364\n",
      "Epoch 128/150\n",
      "250/250 [==============================] - 1s 3ms/step - loss: 0.4007 - accuracy: 0.8347\n",
      "Epoch 129/150\n",
      "250/250 [==============================] - 1s 3ms/step - loss: 0.4002 - accuracy: 0.8355\n",
      "Epoch 130/150\n",
      "250/250 [==============================] - 1s 3ms/step - loss: 0.4000 - accuracy: 0.8344\n",
      "Epoch 131/150\n",
      "250/250 [==============================] - 1s 3ms/step - loss: 0.4004 - accuracy: 0.8335\n",
      "Epoch 132/150\n",
      "250/250 [==============================] - 1s 3ms/step - loss: 0.4006 - accuracy: 0.8363\n",
      "Epoch 133/150\n",
      "250/250 [==============================] - 1s 3ms/step - loss: 0.4001 - accuracy: 0.8353\n",
      "Epoch 134/150\n",
      "250/250 [==============================] - 1s 3ms/step - loss: 0.4002 - accuracy: 0.8342\n",
      "Epoch 135/150\n",
      "250/250 [==============================] - 1s 3ms/step - loss: 0.3999 - accuracy: 0.8347\n",
      "Epoch 136/150\n",
      "250/250 [==============================] - 1s 3ms/step - loss: 0.3999 - accuracy: 0.8359\n",
      "Epoch 137/150\n",
      "250/250 [==============================] - 1s 3ms/step - loss: 0.4000 - accuracy: 0.8350\n",
      "Epoch 138/150\n",
      "250/250 [==============================] - 1s 3ms/step - loss: 0.3997 - accuracy: 0.8353\n",
      "Epoch 139/150\n",
      "250/250 [==============================] - 1s 3ms/step - loss: 0.4001 - accuracy: 0.8350\n",
      "Epoch 140/150\n",
      "250/250 [==============================] - 1s 3ms/step - loss: 0.3999 - accuracy: 0.8351\n",
      "Epoch 141/150\n",
      "250/250 [==============================] - 1s 3ms/step - loss: 0.3993 - accuracy: 0.8344\n",
      "Epoch 142/150\n",
      "250/250 [==============================] - 1s 3ms/step - loss: 0.3997 - accuracy: 0.8347\n",
      "Epoch 143/150\n",
      "250/250 [==============================] - 1s 3ms/step - loss: 0.3994 - accuracy: 0.8345\n",
      "Epoch 144/150\n",
      "250/250 [==============================] - 1s 3ms/step - loss: 0.3994 - accuracy: 0.8345\n",
      "Epoch 145/150\n",
      "250/250 [==============================] - 1s 3ms/step - loss: 0.3991 - accuracy: 0.8354\n",
      "Epoch 146/150\n",
      "250/250 [==============================] - 1s 3ms/step - loss: 0.3994 - accuracy: 0.8346\n",
      "Epoch 147/150\n",
      "250/250 [==============================] - 1s 3ms/step - loss: 0.3997 - accuracy: 0.8347\n",
      "Epoch 148/150\n",
      "250/250 [==============================] - 1s 3ms/step - loss: 0.3990 - accuracy: 0.8355\n",
      "Epoch 149/150\n",
      "250/250 [==============================] - 1s 3ms/step - loss: 0.3987 - accuracy: 0.8363\n",
      "Epoch 150/150\n",
      "250/250 [==============================] - 1s 3ms/step - loss: 0.3984 - accuracy: 0.8356\n"
     ]
    },
    {
     "data": {
      "text/plain": [
       "<keras.callbacks.History at 0x1ae5a58c2e0>"
      ]
     },
     "execution_count": 30,
     "metadata": {},
     "output_type": "execute_result"
    }
   ],
   "source": [
    "import tensorflow as tf\n",
    "from tensorflow import keras\n",
    "\n",
    "\n",
    "model = keras.Sequential([\n",
    "    keras.layers.Dense(11, input_shape=(11,),  kernel_initializer='uniform',activation='relu'),\n",
    "    keras.layers.Dense(5, kernel_initializer='uniform', activation='relu'),\n",
    "    keras.layers.Dense(1, kernel_initializer='uniform', activation='sigmoid')\n",
    "])\n",
    "\n",
    "# opt = keras.optimizers.Adam(learning_rate=0.01)\n",
    "\n",
    "model.compile(optimizer='adam',\n",
    "              loss='binary_crossentropy',\n",
    "              metrics=['accuracy'])\n",
    "\n",
    "model.fit(X_train, y_train, epochs=150)\n"
   ]
  },
  {
   "cell_type": "code",
   "execution_count": 31,
   "id": "a97bcfa6",
   "metadata": {},
   "outputs": [
    {
     "name": "stdout",
     "output_type": "stream",
     "text": [
      "63/63 [==============================] - 0s 2ms/step - loss: 0.3955 - accuracy: 0.8345\n"
     ]
    },
    {
     "data": {
      "text/plain": [
       "[0.395539253950119, 0.8345000147819519]"
      ]
     },
     "execution_count": 31,
     "metadata": {},
     "output_type": "execute_result"
    }
   ],
   "source": [
    "model.evaluate(X_test, y_test)"
   ]
  },
  {
   "cell_type": "code",
   "execution_count": 32,
   "id": "186c28a5",
   "metadata": {},
   "outputs": [
    {
     "data": {
      "text/plain": [
       "array([[0.24114974],\n",
       "       [0.3936668 ],\n",
       "       [0.16119565],\n",
       "       [0.06281137],\n",
       "       [0.20625435]], dtype=float32)"
      ]
     },
     "execution_count": 32,
     "metadata": {},
     "output_type": "execute_result"
    }
   ],
   "source": [
    "yp = model.predict(X_test)\n",
    "yp[:5]"
   ]
  },
  {
   "cell_type": "code",
   "execution_count": 33,
   "id": "90486f1c",
   "metadata": {},
   "outputs": [],
   "source": [
    "y_pred = []\n",
    "for element in yp:\n",
    "    if element > 0.5:\n",
    "        y_pred.append(1)\n",
    "    else:\n",
    "        y_pred.append(0)"
   ]
  },
  {
   "cell_type": "code",
   "execution_count": 34,
   "id": "5fd6634c",
   "metadata": {},
   "outputs": [
    {
     "data": {
      "text/plain": [
       "[0, 0, 0, 0, 0, 1, 0, 0, 0, 1, 0, 0, 0, 0, 0, 0, 0, 0, 0, 0]"
      ]
     },
     "execution_count": 34,
     "metadata": {},
     "output_type": "execute_result"
    }
   ],
   "source": [
    "y_pred[:20]"
   ]
  },
  {
   "cell_type": "code",
   "execution_count": 35,
   "id": "76833832",
   "metadata": {},
   "outputs": [
    {
     "data": {
      "text/plain": [
       "9394    0\n",
       "898     1\n",
       "2398    0\n",
       "5906    0\n",
       "2343    0\n",
       "8225    1\n",
       "5506    0\n",
       "6451    0\n",
       "2670    1\n",
       "3497    1\n",
       "1087    0\n",
       "1819    0\n",
       "2308    0\n",
       "6084    0\n",
       "3724    1\n",
       "3184    1\n",
       "6387    0\n",
       "3728    0\n",
       "2702    0\n",
       "7883    0\n",
       "Name: Exited, dtype: int64"
      ]
     },
     "execution_count": 35,
     "metadata": {},
     "output_type": "execute_result"
    }
   ],
   "source": [
    "y_test[:20]"
   ]
  },
  {
   "cell_type": "code",
   "execution_count": 36,
   "id": "da49c776",
   "metadata": {},
   "outputs": [],
   "source": [
    "model.save(\"churn1.h5\")"
   ]
  },
  {
   "cell_type": "code",
   "execution_count": 37,
   "id": "1ba4c8df",
   "metadata": {},
   "outputs": [],
   "source": [
    "from keras.models import load_model"
   ]
  },
  {
   "cell_type": "code",
   "execution_count": 48,
   "id": "a3d9847d",
   "metadata": {},
   "outputs": [
    {
     "data": {
      "text/plain": [
       "array([[0.24114974],\n",
       "       [0.3936668 ],\n",
       "       [0.16119565],\n",
       "       [0.06281137],\n",
       "       [0.20625435],\n",
       "       [0.67674834],\n",
       "       [0.08995283],\n",
       "       [0.09225874],\n",
       "       [0.22929116],\n",
       "       [0.8276203 ]], dtype=float32)"
      ]
     },
     "execution_count": 48,
     "metadata": {},
     "output_type": "execute_result"
    }
   ],
   "source": [
    "model1=load_model(\"churn1.h5\")\n",
    "yp=model1.predict(X_test)\n",
    "yp[:10]"
   ]
  },
  {
   "cell_type": "code",
   "execution_count": 51,
   "id": "4b91a582",
   "metadata": {},
   "outputs": [
    {
     "data": {
      "text/plain": [
       "array([[0.22754183]], dtype=float32)"
      ]
     },
     "execution_count": 51,
     "metadata": {},
     "output_type": "execute_result"
    }
   ],
   "source": [
    "model1.predict([[ 0.123, 1,0.565, 0.02, 0.0612, 2, 0, 1, 0.66,0,0]])\n",
    "\n"
   ]
  },
  {
   "cell_type": "code",
   "execution_count": null,
   "id": "b5a4bbb5",
   "metadata": {},
   "outputs": [],
   "source": [
    "import json\n",
    "columns = {\n",
    "    'data_columns' : [col.lower() for col in X.columns]\n",
    "}\n",
    "with open(\"columns.json\",\"w\") as f:\n",
    "    f.write(json.dumps(columns))"
   ]
  },
  {
   "cell_type": "code",
   "execution_count": null,
   "id": "34483bdf",
   "metadata": {},
   "outputs": [],
   "source": []
  }
 ],
 "metadata": {
  "kernelspec": {
   "display_name": "Python 3",
   "language": "python",
   "name": "python3"
  },
  "language_info": {
   "codemirror_mode": {
    "name": "ipython",
    "version": 3
   },
   "file_extension": ".py",
   "mimetype": "text/x-python",
   "name": "python",
   "nbconvert_exporter": "python",
   "pygments_lexer": "ipython3",
   "version": "3.8.8"
  }
 },
 "nbformat": 4,
 "nbformat_minor": 5
}
